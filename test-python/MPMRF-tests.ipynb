{
 "cells": [
  {
   "cell_type": "markdown",
   "metadata": {},
   "source": [
    "# Tests (classe `MPMRF`)"
   ]
  },
  {
   "cell_type": "code",
   "execution_count": null,
   "metadata": {},
   "outputs": [],
   "source": [
    "from MPMRF import MPMRF as MPMRF\n",
    "import numpy as np\n",
    "\n",
    "A = np.array([[1, 0.2, 0.7, 0, 0], [0.2, 1, 0, 0, 0], [0.7, 0, 1, 0.3, 0.4], [0, 0, 0.3, 1, 0], [0, 0, 0.4, 0, 1]])\n",
    "lambdap = 2\n",
    "\n",
    "mpmrf = MPMRF(A, lambdap)"
   ]
  },
  {
   "cell_type": "code",
   "execution_count": 20,
   "metadata": {},
   "outputs": [],
   "source": [
    "ech = mpmrf.sample(1000000)"
   ]
  },
  {
   "cell_type": "code",
   "execution_count": 23,
   "metadata": {},
   "outputs": [
    {
     "name": "stdout",
     "output_type": "stream",
     "text": [
      "0.3004949235427496\n",
      "0.1988652440433213\n"
     ]
    }
   ],
   "source": [
    "# Corrélation entre les noeuds 3 et 4\n",
    "# Devrait être environ 0.3\n",
    "cov_emp = np.mean(ech[:, 2] * ech[:, 3]) - np.mean(ech[:, 2]) * np.mean(ech[:, 3])\n",
    "print(cov_emp / ((np.var(ech[:, 2])**0.5) * (np.var(ech[:, 3])**0.5))) # OK, validé.\n",
    "\n",
    "\n",
    "# Corrélation entre les noeuds 1 et 2\n",
    "# Devrait être environ 0.2\n",
    "cov_emp = np.mean(ech[:, 0] * ech[:, 1]) - np.mean(ech[:, 0]) * np.mean(ech[:, 1])\n",
    "print(cov_emp / ((np.var(ech[:, 0])**0.5) * (np.var(ech[:, 1])**0.5))) # OK, validé."
   ]
  }
 ],
 "metadata": {
  "kernelspec": {
   "display_name": "Python 3",
   "language": "python",
   "name": "python3"
  },
  "language_info": {
   "codemirror_mode": {
    "name": "ipython",
    "version": 3
   },
   "file_extension": ".py",
   "mimetype": "text/x-python",
   "name": "python",
   "nbconvert_exporter": "python",
   "pygments_lexer": "ipython3",
   "version": "3.10.11"
  }
 },
 "nbformat": 4,
 "nbformat_minor": 2
}
